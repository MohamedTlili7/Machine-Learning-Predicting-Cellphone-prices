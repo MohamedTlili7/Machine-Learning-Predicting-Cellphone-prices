{
 "cells": [
  {
   "cell_type": "markdown",
   "id": "84b76ff7",
   "metadata": {},
   "source": [
    "# Data preprocessing and exploration"
   ]
  },
  {
   "cell_type": "markdown",
   "id": "7b1a7543",
   "metadata": {},
   "source": [
    "## Importing libraries and dataset"
   ]
  },
  {
   "cell_type": "code",
   "execution_count": 148,
   "id": "88d6499e",
   "metadata": {},
   "outputs": [],
   "source": [
    "import pandas as pd\n",
    "import matplotlib.pyplot as plt\n",
    "import numpy as np\n",
    "import warnings\n",
    "warnings.filterwarnings('ignore')"
   ]
  },
  {
   "cell_type": "code",
   "execution_count": 149,
   "id": "c8123f35",
   "metadata": {},
   "outputs": [
    {
     "data": {
      "text/html": [
       "<div>\n",
       "<style scoped>\n",
       "    .dataframe tbody tr th:only-of-type {\n",
       "        vertical-align: middle;\n",
       "    }\n",
       "\n",
       "    .dataframe tbody tr th {\n",
       "        vertical-align: top;\n",
       "    }\n",
       "\n",
       "    .dataframe thead th {\n",
       "        text-align: right;\n",
       "    }\n",
       "</style>\n",
       "<table border=\"1\" class=\"dataframe\">\n",
       "  <thead>\n",
       "    <tr style=\"text-align: right;\">\n",
       "      <th></th>\n",
       "      <th>Product_id</th>\n",
       "      <th>Sale</th>\n",
       "      <th>Weight</th>\n",
       "      <th>Resolution</th>\n",
       "      <th>Ppi</th>\n",
       "      <th>Cpu_core</th>\n",
       "      <th>Cpu_freq</th>\n",
       "      <th>Storage</th>\n",
       "      <th>Ram</th>\n",
       "      <th>RearCam</th>\n",
       "      <th>FrontCam</th>\n",
       "      <th>Battery</th>\n",
       "      <th>Thickness</th>\n",
       "      <th>Price</th>\n",
       "    </tr>\n",
       "  </thead>\n",
       "  <tbody>\n",
       "    <tr>\n",
       "      <th>0</th>\n",
       "      <td>203</td>\n",
       "      <td>10</td>\n",
       "      <td>135.0</td>\n",
       "      <td>5.2</td>\n",
       "      <td>424</td>\n",
       "      <td>8</td>\n",
       "      <td>1.35</td>\n",
       "      <td>16.0</td>\n",
       "      <td>3.000</td>\n",
       "      <td>13.00</td>\n",
       "      <td>8.0</td>\n",
       "      <td>2610</td>\n",
       "      <td>7.4</td>\n",
       "      <td>2357</td>\n",
       "    </tr>\n",
       "    <tr>\n",
       "      <th>1</th>\n",
       "      <td>880</td>\n",
       "      <td>10</td>\n",
       "      <td>125.0</td>\n",
       "      <td>4.0</td>\n",
       "      <td>233</td>\n",
       "      <td>2</td>\n",
       "      <td>1.30</td>\n",
       "      <td>4.0</td>\n",
       "      <td>1.000</td>\n",
       "      <td>3.15</td>\n",
       "      <td>0.0</td>\n",
       "      <td>1700</td>\n",
       "      <td>9.9</td>\n",
       "      <td>1749</td>\n",
       "    </tr>\n",
       "    <tr>\n",
       "      <th>2</th>\n",
       "      <td>40</td>\n",
       "      <td>10</td>\n",
       "      <td>110.0</td>\n",
       "      <td>4.7</td>\n",
       "      <td>312</td>\n",
       "      <td>4</td>\n",
       "      <td>1.20</td>\n",
       "      <td>8.0</td>\n",
       "      <td>1.500</td>\n",
       "      <td>13.00</td>\n",
       "      <td>5.0</td>\n",
       "      <td>2000</td>\n",
       "      <td>7.6</td>\n",
       "      <td>1916</td>\n",
       "    </tr>\n",
       "    <tr>\n",
       "      <th>3</th>\n",
       "      <td>99</td>\n",
       "      <td>11</td>\n",
       "      <td>118.5</td>\n",
       "      <td>4.0</td>\n",
       "      <td>233</td>\n",
       "      <td>2</td>\n",
       "      <td>1.30</td>\n",
       "      <td>4.0</td>\n",
       "      <td>0.512</td>\n",
       "      <td>3.15</td>\n",
       "      <td>0.0</td>\n",
       "      <td>1400</td>\n",
       "      <td>11.0</td>\n",
       "      <td>1315</td>\n",
       "    </tr>\n",
       "    <tr>\n",
       "      <th>4</th>\n",
       "      <td>880</td>\n",
       "      <td>11</td>\n",
       "      <td>125.0</td>\n",
       "      <td>4.0</td>\n",
       "      <td>233</td>\n",
       "      <td>2</td>\n",
       "      <td>1.30</td>\n",
       "      <td>4.0</td>\n",
       "      <td>1.000</td>\n",
       "      <td>3.15</td>\n",
       "      <td>0.0</td>\n",
       "      <td>1700</td>\n",
       "      <td>9.9</td>\n",
       "      <td>1749</td>\n",
       "    </tr>\n",
       "  </tbody>\n",
       "</table>\n",
       "</div>"
      ],
      "text/plain": [
       "   Product_id  Sale  Weight  Resolution  Ppi  Cpu_core  Cpu_freq  Storage  \\\n",
       "0         203    10   135.0         5.2  424         8      1.35     16.0   \n",
       "1         880    10   125.0         4.0  233         2      1.30      4.0   \n",
       "2          40    10   110.0         4.7  312         4      1.20      8.0   \n",
       "3          99    11   118.5         4.0  233         2      1.30      4.0   \n",
       "4         880    11   125.0         4.0  233         2      1.30      4.0   \n",
       "\n",
       "     Ram  RearCam  FrontCam  Battery  Thickness  Price  \n",
       "0  3.000    13.00       8.0     2610        7.4   2357  \n",
       "1  1.000     3.15       0.0     1700        9.9   1749  \n",
       "2  1.500    13.00       5.0     2000        7.6   1916  \n",
       "3  0.512     3.15       0.0     1400       11.0   1315  \n",
       "4  1.000     3.15       0.0     1700        9.9   1749  "
      ]
     },
     "execution_count": 149,
     "metadata": {},
     "output_type": "execute_result"
    }
   ],
   "source": [
    "df = pd.read_csv('Cellphone.csv')\n",
    "df.head()"
   ]
  },
  {
   "cell_type": "code",
   "execution_count": 150,
   "id": "080ec75a",
   "metadata": {},
   "outputs": [
    {
     "data": {
      "text/plain": [
       "(161, 14)"
      ]
     },
     "execution_count": 150,
     "metadata": {},
     "output_type": "execute_result"
    }
   ],
   "source": [
    "df.shape"
   ]
  },
  {
   "cell_type": "code",
   "execution_count": 151,
   "id": "604c76b8",
   "metadata": {},
   "outputs": [
    {
     "name": "stdout",
     "output_type": "stream",
     "text": [
      "<class 'pandas.core.frame.DataFrame'>\n",
      "RangeIndex: 161 entries, 0 to 160\n",
      "Data columns (total 14 columns):\n",
      " #   Column      Non-Null Count  Dtype  \n",
      "---  ------      --------------  -----  \n",
      " 0   Product_id  161 non-null    int64  \n",
      " 1   Sale        161 non-null    int64  \n",
      " 2   Weight      161 non-null    float64\n",
      " 3   Resolution  161 non-null    float64\n",
      " 4   Ppi         161 non-null    int64  \n",
      " 5   Cpu_core    161 non-null    int64  \n",
      " 6   Cpu_freq    161 non-null    float64\n",
      " 7   Storage     161 non-null    float64\n",
      " 8   Ram         161 non-null    float64\n",
      " 9   RearCam     161 non-null    float64\n",
      " 10  FrontCam    161 non-null    float64\n",
      " 11  Battery     161 non-null    int64  \n",
      " 12  Thickness   161 non-null    float64\n",
      " 13  Price       161 non-null    int64  \n",
      "dtypes: float64(8), int64(6)\n",
      "memory usage: 17.7 KB\n"
     ]
    }
   ],
   "source": [
    "df.info()"
   ]
  },
  {
   "cell_type": "markdown",
   "id": "4e14d311",
   "metadata": {},
   "source": [
    "## Statistical description"
   ]
  },
  {
   "cell_type": "code",
   "execution_count": 152,
   "id": "640475dd",
   "metadata": {},
   "outputs": [
    {
     "data": {
      "text/html": [
       "<div>\n",
       "<style scoped>\n",
       "    .dataframe tbody tr th:only-of-type {\n",
       "        vertical-align: middle;\n",
       "    }\n",
       "\n",
       "    .dataframe tbody tr th {\n",
       "        vertical-align: top;\n",
       "    }\n",
       "\n",
       "    .dataframe thead th {\n",
       "        text-align: right;\n",
       "    }\n",
       "</style>\n",
       "<table border=\"1\" class=\"dataframe\">\n",
       "  <thead>\n",
       "    <tr style=\"text-align: right;\">\n",
       "      <th></th>\n",
       "      <th>Product_id</th>\n",
       "      <th>Sale</th>\n",
       "      <th>Weight</th>\n",
       "      <th>Resolution</th>\n",
       "      <th>Ppi</th>\n",
       "      <th>Cpu_core</th>\n",
       "      <th>Cpu_freq</th>\n",
       "      <th>Storage</th>\n",
       "      <th>Ram</th>\n",
       "      <th>RearCam</th>\n",
       "      <th>FrontCam</th>\n",
       "      <th>Battery</th>\n",
       "      <th>Thickness</th>\n",
       "      <th>Price</th>\n",
       "    </tr>\n",
       "  </thead>\n",
       "  <tbody>\n",
       "    <tr>\n",
       "      <th>count</th>\n",
       "      <td>161.000000</td>\n",
       "      <td>161.000000</td>\n",
       "      <td>161.000000</td>\n",
       "      <td>161.000000</td>\n",
       "      <td>161.000000</td>\n",
       "      <td>161.000000</td>\n",
       "      <td>161.000000</td>\n",
       "      <td>161.000000</td>\n",
       "      <td>161.000000</td>\n",
       "      <td>161.000000</td>\n",
       "      <td>161.000000</td>\n",
       "      <td>161.000000</td>\n",
       "      <td>161.000000</td>\n",
       "      <td>161.000000</td>\n",
       "    </tr>\n",
       "    <tr>\n",
       "      <th>mean</th>\n",
       "      <td>675.559006</td>\n",
       "      <td>621.465839</td>\n",
       "      <td>170.426087</td>\n",
       "      <td>5.209938</td>\n",
       "      <td>335.055901</td>\n",
       "      <td>4.857143</td>\n",
       "      <td>1.502832</td>\n",
       "      <td>24.501714</td>\n",
       "      <td>2.204994</td>\n",
       "      <td>10.378261</td>\n",
       "      <td>4.503106</td>\n",
       "      <td>2842.111801</td>\n",
       "      <td>8.921739</td>\n",
       "      <td>2215.596273</td>\n",
       "    </tr>\n",
       "    <tr>\n",
       "      <th>std</th>\n",
       "      <td>410.851583</td>\n",
       "      <td>1546.618517</td>\n",
       "      <td>92.888612</td>\n",
       "      <td>1.509953</td>\n",
       "      <td>134.826659</td>\n",
       "      <td>2.444016</td>\n",
       "      <td>0.599783</td>\n",
       "      <td>28.804773</td>\n",
       "      <td>1.609831</td>\n",
       "      <td>6.181585</td>\n",
       "      <td>4.342053</td>\n",
       "      <td>1366.990838</td>\n",
       "      <td>2.192564</td>\n",
       "      <td>768.187171</td>\n",
       "    </tr>\n",
       "    <tr>\n",
       "      <th>min</th>\n",
       "      <td>10.000000</td>\n",
       "      <td>10.000000</td>\n",
       "      <td>66.000000</td>\n",
       "      <td>1.400000</td>\n",
       "      <td>121.000000</td>\n",
       "      <td>0.000000</td>\n",
       "      <td>0.000000</td>\n",
       "      <td>0.000000</td>\n",
       "      <td>0.000000</td>\n",
       "      <td>0.000000</td>\n",
       "      <td>0.000000</td>\n",
       "      <td>800.000000</td>\n",
       "      <td>5.100000</td>\n",
       "      <td>614.000000</td>\n",
       "    </tr>\n",
       "    <tr>\n",
       "      <th>25%</th>\n",
       "      <td>237.000000</td>\n",
       "      <td>37.000000</td>\n",
       "      <td>134.100000</td>\n",
       "      <td>4.800000</td>\n",
       "      <td>233.000000</td>\n",
       "      <td>4.000000</td>\n",
       "      <td>1.200000</td>\n",
       "      <td>8.000000</td>\n",
       "      <td>1.000000</td>\n",
       "      <td>5.000000</td>\n",
       "      <td>0.000000</td>\n",
       "      <td>2040.000000</td>\n",
       "      <td>7.600000</td>\n",
       "      <td>1734.000000</td>\n",
       "    </tr>\n",
       "    <tr>\n",
       "      <th>50%</th>\n",
       "      <td>774.000000</td>\n",
       "      <td>106.000000</td>\n",
       "      <td>153.000000</td>\n",
       "      <td>5.150000</td>\n",
       "      <td>294.000000</td>\n",
       "      <td>4.000000</td>\n",
       "      <td>1.400000</td>\n",
       "      <td>16.000000</td>\n",
       "      <td>2.000000</td>\n",
       "      <td>12.000000</td>\n",
       "      <td>5.000000</td>\n",
       "      <td>2800.000000</td>\n",
       "      <td>8.400000</td>\n",
       "      <td>2258.000000</td>\n",
       "    </tr>\n",
       "    <tr>\n",
       "      <th>75%</th>\n",
       "      <td>1026.000000</td>\n",
       "      <td>382.000000</td>\n",
       "      <td>170.000000</td>\n",
       "      <td>5.500000</td>\n",
       "      <td>428.000000</td>\n",
       "      <td>8.000000</td>\n",
       "      <td>1.875000</td>\n",
       "      <td>32.000000</td>\n",
       "      <td>3.000000</td>\n",
       "      <td>16.000000</td>\n",
       "      <td>8.000000</td>\n",
       "      <td>3240.000000</td>\n",
       "      <td>9.800000</td>\n",
       "      <td>2744.000000</td>\n",
       "    </tr>\n",
       "    <tr>\n",
       "      <th>max</th>\n",
       "      <td>1339.000000</td>\n",
       "      <td>9807.000000</td>\n",
       "      <td>753.000000</td>\n",
       "      <td>12.200000</td>\n",
       "      <td>806.000000</td>\n",
       "      <td>8.000000</td>\n",
       "      <td>2.700000</td>\n",
       "      <td>128.000000</td>\n",
       "      <td>6.000000</td>\n",
       "      <td>23.000000</td>\n",
       "      <td>20.000000</td>\n",
       "      <td>9500.000000</td>\n",
       "      <td>18.500000</td>\n",
       "      <td>4361.000000</td>\n",
       "    </tr>\n",
       "  </tbody>\n",
       "</table>\n",
       "</div>"
      ],
      "text/plain": [
       "        Product_id         Sale      Weight  Resolution         Ppi  \\\n",
       "count   161.000000   161.000000  161.000000  161.000000  161.000000   \n",
       "mean    675.559006   621.465839  170.426087    5.209938  335.055901   \n",
       "std     410.851583  1546.618517   92.888612    1.509953  134.826659   \n",
       "min      10.000000    10.000000   66.000000    1.400000  121.000000   \n",
       "25%     237.000000    37.000000  134.100000    4.800000  233.000000   \n",
       "50%     774.000000   106.000000  153.000000    5.150000  294.000000   \n",
       "75%    1026.000000   382.000000  170.000000    5.500000  428.000000   \n",
       "max    1339.000000  9807.000000  753.000000   12.200000  806.000000   \n",
       "\n",
       "         Cpu_core    Cpu_freq     Storage         Ram     RearCam    FrontCam  \\\n",
       "count  161.000000  161.000000  161.000000  161.000000  161.000000  161.000000   \n",
       "mean     4.857143    1.502832   24.501714    2.204994   10.378261    4.503106   \n",
       "std      2.444016    0.599783   28.804773    1.609831    6.181585    4.342053   \n",
       "min      0.000000    0.000000    0.000000    0.000000    0.000000    0.000000   \n",
       "25%      4.000000    1.200000    8.000000    1.000000    5.000000    0.000000   \n",
       "50%      4.000000    1.400000   16.000000    2.000000   12.000000    5.000000   \n",
       "75%      8.000000    1.875000   32.000000    3.000000   16.000000    8.000000   \n",
       "max      8.000000    2.700000  128.000000    6.000000   23.000000   20.000000   \n",
       "\n",
       "           Battery   Thickness        Price  \n",
       "count   161.000000  161.000000   161.000000  \n",
       "mean   2842.111801    8.921739  2215.596273  \n",
       "std    1366.990838    2.192564   768.187171  \n",
       "min     800.000000    5.100000   614.000000  \n",
       "25%    2040.000000    7.600000  1734.000000  \n",
       "50%    2800.000000    8.400000  2258.000000  \n",
       "75%    3240.000000    9.800000  2744.000000  \n",
       "max    9500.000000   18.500000  4361.000000  "
      ]
     },
     "execution_count": 152,
     "metadata": {},
     "output_type": "execute_result"
    }
   ],
   "source": [
    "df.describe()"
   ]
  },
  {
   "cell_type": "code",
   "execution_count": 153,
   "id": "176f6c45",
   "metadata": {},
   "outputs": [
    {
     "data": {
      "text/plain": [
       "4    81\n",
       "8    52\n",
       "2    14\n",
       "0    10\n",
       "6     2\n",
       "1     2\n",
       "Name: Cpu_core, dtype: int64"
      ]
     },
     "execution_count": 153,
     "metadata": {},
     "output_type": "execute_result"
    }
   ],
   "source": [
    "df['Cpu_core'].value_counts()"
   ]
  },
  {
   "cell_type": "markdown",
   "id": "396aab19",
   "metadata": {},
   "source": [
    "# Checking for missing values"
   ]
  },
  {
   "cell_type": "code",
   "execution_count": 155,
   "id": "e5885dd7",
   "metadata": {},
   "outputs": [
    {
     "data": {
      "text/plain": [
       "Product_id    0\n",
       "Sale          0\n",
       "Weight        0\n",
       "Resolution    0\n",
       "Ppi           0\n",
       "Cpu_core      0\n",
       "Cpu_freq      0\n",
       "Storage       0\n",
       "Ram           0\n",
       "RearCam       0\n",
       "FrontCam      0\n",
       "Battery       0\n",
       "Thickness     0\n",
       "Price         0\n",
       "dtype: int64"
      ]
     },
     "execution_count": 155,
     "metadata": {},
     "output_type": "execute_result"
    }
   ],
   "source": [
    "df.isnull().sum()"
   ]
  },
  {
   "cell_type": "markdown",
   "id": "47b24952",
   "metadata": {},
   "source": [
    "# Checking for duplicated values"
   ]
  },
  {
   "cell_type": "code",
   "execution_count": 178,
   "id": "777351b4",
   "metadata": {},
   "outputs": [
    {
     "data": {
      "text/html": [
       "<div>\n",
       "<style scoped>\n",
       "    .dataframe tbody tr th:only-of-type {\n",
       "        vertical-align: middle;\n",
       "    }\n",
       "\n",
       "    .dataframe tbody tr th {\n",
       "        vertical-align: top;\n",
       "    }\n",
       "\n",
       "    .dataframe thead th {\n",
       "        text-align: right;\n",
       "    }\n",
       "</style>\n",
       "<table border=\"1\" class=\"dataframe\">\n",
       "  <thead>\n",
       "    <tr style=\"text-align: right;\">\n",
       "      <th></th>\n",
       "      <th>Product_id</th>\n",
       "      <th>Sale</th>\n",
       "      <th>Weight</th>\n",
       "      <th>Resolution</th>\n",
       "      <th>Ppi</th>\n",
       "      <th>Cpu_core</th>\n",
       "      <th>Cpu_freq</th>\n",
       "      <th>Storage</th>\n",
       "      <th>Ram</th>\n",
       "      <th>RearCam</th>\n",
       "      <th>FrontCam</th>\n",
       "      <th>Battery</th>\n",
       "      <th>Thickness</th>\n",
       "      <th>Price</th>\n",
       "    </tr>\n",
       "  </thead>\n",
       "  <tbody>\n",
       "  </tbody>\n",
       "</table>\n",
       "</div>"
      ],
      "text/plain": [
       "Empty DataFrame\n",
       "Columns: [Product_id, Sale, Weight, Resolution, Ppi, Cpu_core, Cpu_freq, Storage, Ram, RearCam, FrontCam, Battery, Thickness, Price]\n",
       "Index: []"
      ]
     },
     "execution_count": 178,
     "metadata": {},
     "output_type": "execute_result"
    }
   ],
   "source": [
    "df[df.duplicated()]"
   ]
  },
  {
   "cell_type": "markdown",
   "id": "a701ff37",
   "metadata": {},
   "source": [
    "# Data Preprocessing"
   ]
  },
  {
   "cell_type": "code",
   "execution_count": 157,
   "id": "48da6e5d",
   "metadata": {},
   "outputs": [],
   "source": [
    "X = df.iloc[:,0:12].values\n",
    "y = df.iloc[:,13].values"
   ]
  },
  {
   "cell_type": "code",
   "execution_count": 158,
   "id": "aa5a9016",
   "metadata": {},
   "outputs": [
    {
     "data": {
      "text/plain": [
       "(161, 12)"
      ]
     },
     "execution_count": 158,
     "metadata": {},
     "output_type": "execute_result"
    }
   ],
   "source": [
    "X.shape"
   ]
  },
  {
   "cell_type": "code",
   "execution_count": 159,
   "id": "2df5e238",
   "metadata": {},
   "outputs": [
    {
     "data": {
      "text/plain": [
       "(161,)"
      ]
     },
     "execution_count": 159,
     "metadata": {},
     "output_type": "execute_result"
    }
   ],
   "source": [
    "y.shape"
   ]
  },
  {
   "cell_type": "markdown",
   "id": "599fa622",
   "metadata": {},
   "source": [
    "## Splitting the dataset into the Training set and Test set"
   ]
  },
  {
   "cell_type": "code",
   "execution_count": 160,
   "id": "c6f2e91d",
   "metadata": {},
   "outputs": [],
   "source": [
    "from sklearn.model_selection import train_test_split\n",
    "X_train,X_test,y_train,y_test = train_test_split(X,y,test_size=0.2,random_state=0)"
   ]
  },
  {
   "cell_type": "code",
   "execution_count": 161,
   "id": "055cdd2a",
   "metadata": {},
   "outputs": [
    {
     "name": "stdout",
     "output_type": "stream",
     "text": [
      "X_train Shape= (128, 12)\n",
      "X_test Shape= (33, 12)\n",
      "y_train Shape= (128,)\n",
      "y_test Shape= (33,)\n"
     ]
    }
   ],
   "source": [
    "print ('X_train Shape=', X_train.shape) # taille de la partie x_train\n",
    "print ('X_test Shape=', X_test.shape) # taille de la partie x_test\n",
    "print ('y_train Shape=', y_train.shape) # taille de la partie y_train\n",
    "print ('y_test Shape=', y_test.shape) # taille de la partie y_test"
   ]
  },
  {
   "cell_type": "markdown",
   "id": "9720832c",
   "metadata": {},
   "source": [
    "## Fitting Multiple linear regression to the training set"
   ]
  },
  {
   "cell_type": "markdown",
   "id": "eba2c485",
   "metadata": {},
   "source": [
    "## Linear Regression"
   ]
  },
  {
   "cell_type": "code",
   "execution_count": 162,
   "id": "1592726b",
   "metadata": {},
   "outputs": [
    {
     "data": {
      "text/plain": [
       "LinearRegression()"
      ]
     },
     "execution_count": 162,
     "metadata": {},
     "output_type": "execute_result"
    }
   ],
   "source": [
    "from sklearn.linear_model import LinearRegression\n",
    "regressor = LinearRegression()\n",
    "regressor.fit(X_train,y_train)"
   ]
  },
  {
   "cell_type": "code",
   "execution_count": 163,
   "id": "19370acc",
   "metadata": {},
   "outputs": [
    {
     "name": "stdout",
     "output_type": "stream",
     "text": [
      "b = 463.69915663219626\n",
      "a = [ 3.80907194e-02 -2.09032831e-02 -3.01197740e+00  1.07609759e+02\n",
      "  1.10770257e+00  6.11245444e+01  1.25355656e+02  7.27204566e+00\n",
      "  8.60437946e+01  3.17984526e+00  6.13234319e+00  1.46060502e-01]\n"
     ]
    }
   ],
   "source": [
    "print(f'b = {regressor.intercept_}')\n",
    "print(f'a = {regressor.coef_}')"
   ]
  },
  {
   "cell_type": "code",
   "execution_count": 164,
   "id": "639f3e77",
   "metadata": {},
   "outputs": [],
   "source": [
    "y_pred = regressor.predict(X_test)"
   ]
  },
  {
   "cell_type": "code",
   "execution_count": 165,
   "id": "727e0adc",
   "metadata": {},
   "outputs": [
    {
     "name": "stdout",
     "output_type": "stream",
     "text": [
      "[2975, 2911.6313283592763]\n",
      "[754, 792.8401534593438]\n",
      "[1921, 1756.934707522062]\n",
      "[2137, 2370.0891538708547]\n",
      "[2859, 3043.9394068705274]\n",
      "[2744, 2490.459926680929]\n",
      "[2001, 2029.876922928734]\n",
      "[2746, 2983.9865751887546]\n",
      "[1396, 1557.8987336170976]\n",
      "[791, 801.4444996864945]\n"
     ]
    }
   ],
   "source": [
    "for i in range(10):\n",
    "    print([y_test[i],y_pred[i]])"
   ]
  },
  {
   "cell_type": "markdown",
   "id": "2fb1f074",
   "metadata": {},
   "source": [
    "## Mean Squared Error, Mean Absolute Error, RMSE and R squared"
   ]
  },
  {
   "cell_type": "code",
   "execution_count": 166,
   "id": "2b6535b8",
   "metadata": {},
   "outputs": [],
   "source": [
    "from sklearn.metrics import mean_squared_error, mean_absolute_error, r2_score"
   ]
  },
  {
   "cell_type": "code",
   "execution_count": 167,
   "id": "04a51c73",
   "metadata": {},
   "outputs": [],
   "source": [
    "def rmse(targets, predictions): \n",
    "    return np.sqrt(((predictions - targets) ** 2).mean())"
   ]
  },
  {
   "cell_type": "code",
   "execution_count": 168,
   "id": "48be19a8",
   "metadata": {},
   "outputs": [
    {
     "name": "stdout",
     "output_type": "stream",
     "text": [
      "MSE = 24985.228255639646\n",
      "RMSE = 158.0671637489572\n",
      "MAE = 123.65270270176529\n",
      "R2 = 0.9467233823043943\n"
     ]
    }
   ],
   "source": [
    "print(f'MSE = {mean_squared_error(y_test, y_pred)}')\n",
    "print(f'RMSE = {rmse(y_test, y_pred)}')\n",
    "print(f'MAE = {mean_absolute_error(y_test, y_pred)}')\n",
    "print(f'R2 = {r2_score(y_test,y_pred)}')"
   ]
  },
  {
   "cell_type": "markdown",
   "id": "5451e080",
   "metadata": {},
   "source": [
    "## K-NN"
   ]
  },
  {
   "cell_type": "code",
   "execution_count": 169,
   "id": "a5096ec0",
   "metadata": {},
   "outputs": [
    {
     "data": {
      "text/plain": [
       "KNeighborsRegressor()"
      ]
     },
     "execution_count": 169,
     "metadata": {},
     "output_type": "execute_result"
    }
   ],
   "source": [
    "from sklearn.neighbors import KNeighborsRegressor\n",
    "knn = KNeighborsRegressor()\n",
    "knn.fit(X_train,y_train)"
   ]
  },
  {
   "cell_type": "code",
   "execution_count": 170,
   "id": "038c0405",
   "metadata": {},
   "outputs": [],
   "source": [
    "y_pred_knn = knn.predict(X_test)"
   ]
  },
  {
   "cell_type": "code",
   "execution_count": 171,
   "id": "e244b133",
   "metadata": {},
   "outputs": [
    {
     "name": "stdout",
     "output_type": "stream",
     "text": [
      "[2975, 2692.6]\n",
      "[754, 1317.6]\n",
      "[1921, 2460.4]\n",
      "[2137, 2008.2]\n",
      "[2859, 3461.4]\n",
      "[2744, 2371.2]\n",
      "[2001, 3350.6]\n",
      "[2746, 2515.6]\n",
      "[1396, 2434.6]\n",
      "[791, 773.4]\n"
     ]
    }
   ],
   "source": [
    "for i in range(10):\n",
    "    print([y_test[i],y_pred_knn[i]])"
   ]
  },
  {
   "cell_type": "code",
   "execution_count": 172,
   "id": "c2f7f10b",
   "metadata": {},
   "outputs": [
    {
     "name": "stdout",
     "output_type": "stream",
     "text": [
      "MSE = 282649.7345454545\n",
      "RMSE = 531.648130388375\n",
      "MAE = 420.7333333333333\n",
      "R2 = 0.3972990082352532\n"
     ]
    }
   ],
   "source": [
    "print(f'MSE = {mean_squared_error(y_test, y_pred_knn)}')\n",
    "print(f'RMSE = {rmse(y_test, y_pred_knn)}')\n",
    "print(f'MAE = {mean_absolute_error(y_test, y_pred_knn)}')\n",
    "print(f'R2 = {r2_score(y_test,y_pred_knn)}')"
   ]
  },
  {
   "cell_type": "markdown",
   "id": "120ac1eb",
   "metadata": {},
   "source": [
    "## Decision Tree"
   ]
  },
  {
   "cell_type": "code",
   "execution_count": 173,
   "id": "a6637ad5",
   "metadata": {},
   "outputs": [
    {
     "data": {
      "text/plain": [
       "DecisionTreeRegressor()"
      ]
     },
     "execution_count": 173,
     "metadata": {},
     "output_type": "execute_result"
    }
   ],
   "source": [
    "from sklearn.tree import DecisionTreeRegressor\n",
    "dt = DecisionTreeRegressor()\n",
    "dt.fit(X_train,y_train)"
   ]
  },
  {
   "cell_type": "code",
   "execution_count": 174,
   "id": "3b3f5bb7",
   "metadata": {},
   "outputs": [],
   "source": [
    "y_pred_dt = dt.predict(X_test)"
   ]
  },
  {
   "cell_type": "code",
   "execution_count": 175,
   "id": "07de2188",
   "metadata": {},
   "outputs": [
    {
     "name": "stdout",
     "output_type": "stream",
     "text": [
      "[2975, 2975.0]\n",
      "[754, 754.0]\n",
      "[1921, 1921.0]\n",
      "[2137, 2137.0]\n",
      "[2859, 2859.0]\n",
      "[2744, 2744.0]\n",
      "[2001, 2508.0]\n",
      "[2746, 2858.0]\n",
      "[1396, 1396.0]\n",
      "[791, 791.0]\n"
     ]
    }
   ],
   "source": [
    "for i in range(10):\n",
    "    print([y_test[i],y_pred_dt[i]])"
   ]
  },
  {
   "cell_type": "code",
   "execution_count": 176,
   "id": "6785c0b5",
   "metadata": {},
   "outputs": [
    {
     "name": "stdout",
     "output_type": "stream",
     "text": [
      "MSE = 39333.15151515151\n",
      "RMSE = 198.32587202670132\n",
      "MAE = 81.87878787878788\n",
      "R2 = 0.9161289520914001\n"
     ]
    }
   ],
   "source": [
    "print(f'MSE = {mean_squared_error(y_test, y_pred_dt)}')\n",
    "print(f'RMSE = {rmse(y_test, y_pred_dt)}')\n",
    "print(f'MAE = {mean_absolute_error(y_test, y_pred_dt)}')\n",
    "print(f'R2 = {r2_score(y_test,y_pred_dt)}')"
   ]
  },
  {
   "cell_type": "markdown",
   "id": "04650300",
   "metadata": {},
   "source": [
    "## Ridge Regularization"
   ]
  },
  {
   "cell_type": "code",
   "execution_count": 179,
   "id": "91a94540",
   "metadata": {},
   "outputs": [
    {
     "data": {
      "text/plain": [
       "Ridge()"
      ]
     },
     "execution_count": 179,
     "metadata": {},
     "output_type": "execute_result"
    }
   ],
   "source": [
    "from sklearn.linear_model import Ridge\n",
    "ridge = Ridge()\n",
    "ridge.fit(X_train, y_train)"
   ]
  },
  {
   "cell_type": "code",
   "execution_count": 180,
   "id": "e3518184",
   "metadata": {},
   "outputs": [
    {
     "name": "stdout",
     "output_type": "stream",
     "text": [
      "465.85570594354726\n",
      "[ 3.72022963e-02 -2.12207539e-02 -2.99278779e+00  1.06455895e+02\n",
      "  1.13185597e+00  6.11613092e+01  1.19642383e+02  7.30801956e+00\n",
      "  8.42788863e+01  3.37267996e+00  6.23360827e+00  1.46852843e-01]\n"
     ]
    }
   ],
   "source": [
    "print(ridge.intercept_)\n",
    "print(ridge.coef_)"
   ]
  },
  {
   "cell_type": "code",
   "execution_count": 181,
   "id": "366526dd",
   "metadata": {},
   "outputs": [],
   "source": [
    "y_pred_r = ridge.predict(X_test)"
   ]
  },
  {
   "cell_type": "code",
   "execution_count": 182,
   "id": "90604fb7",
   "metadata": {},
   "outputs": [
    {
     "name": "stdout",
     "output_type": "stream",
     "text": [
      "[2975, 2916.3580795542766]\n",
      "[754, 798.2678500135455]\n",
      "[1921, 1756.057287224193]\n",
      "[2137, 2367.5465627694093]\n",
      "[2859, 3044.593852205053]\n",
      "[2744, 2496.246562504839]\n",
      "[2001, 2028.7953466641732]\n",
      "[2746, 2983.094914838078]\n",
      "[1396, 1556.1591885857197]\n",
      "[791, 804.5868308362009]\n"
     ]
    }
   ],
   "source": [
    "for i in range(10):\n",
    "    print([y_test[i],y_pred_r[i]])"
   ]
  },
  {
   "cell_type": "code",
   "execution_count": 183,
   "id": "35d88d1a",
   "metadata": {},
   "outputs": [
    {
     "name": "stdout",
     "output_type": "stream",
     "text": [
      "MSE = 24886.03506885305\n",
      "RMSE = 157.75308259699094\n",
      "MAE = 123.62364559315321\n",
      "R2 = 0.9469348943801044\n"
     ]
    }
   ],
   "source": [
    "print(f'MSE = {mean_squared_error(y_test, y_pred_r)}')\n",
    "print(f'RMSE = {rmse(y_test, y_pred_r)}')\n",
    "print(f'MAE = {mean_absolute_error(y_test, y_pred_r)}')\n",
    "print(f'R2 = {r2_score(y_test,y_pred_r)}')"
   ]
  },
  {
   "cell_type": "code",
   "execution_count": null,
   "id": "c09db52e",
   "metadata": {},
   "outputs": [],
   "source": []
  }
 ],
 "metadata": {
  "kernelspec": {
   "display_name": "Python 3 (ipykernel)",
   "language": "python",
   "name": "python3"
  },
  "language_info": {
   "codemirror_mode": {
    "name": "ipython",
    "version": 3
   },
   "file_extension": ".py",
   "mimetype": "text/x-python",
   "name": "python",
   "nbconvert_exporter": "python",
   "pygments_lexer": "ipython3",
   "version": "3.9.12"
  }
 },
 "nbformat": 4,
 "nbformat_minor": 5
}
